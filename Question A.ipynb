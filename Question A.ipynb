{
 "cells": [
  {
   "cell_type": "markdown",
   "id": "a5812882-cbd6-4ba1-9272-697981cb1873",
   "metadata": {},
   "source": [
    "### Q1)"
   ]
  },
  {
   "cell_type": "code",
   "execution_count": 430,
   "id": "570e1965-a2fe-4512-a36a-adbfc7972c59",
   "metadata": {},
   "outputs": [],
   "source": [
    "with open('C:\\\\Users\\\\DELL\\\\Desktop\\\\IT22345400\\\\groups\\\\groups\\\\Group2.txt', 'r') as file:\n",
    "    group2 = set(file.read().split(\", \"))"
   ]
  },
  {
   "cell_type": "code",
   "execution_count": 431,
   "id": "3655495f-22ca-4e83-bfa2-29d842a78a0b",
   "metadata": {},
   "outputs": [],
   "source": [
    "with open('C:\\\\Users\\\\DELL\\\\Desktop\\\\IT22345400\\\\groups\\\\groups\\\\Group3.txt', 'r') as file:\n",
    "    group3 = set(file.read().split(\", \"))"
   ]
  },
  {
   "cell_type": "code",
   "execution_count": 432,
   "id": "5eb24f6c-3bd8-43ef-a015-46c00c5ff6f5",
   "metadata": {},
   "outputs": [],
   "source": [
    "with open('C:\\\\Users\\\\DELL\\\\Desktop\\\\IT22345400\\\\groups\\\\groups\\\\Group5.txt', 'r') as file:\n",
    "    group5 = set(file.read().split(\", \"))"
   ]
  },
  {
   "cell_type": "code",
   "execution_count": 433,
   "id": "a61325fe-dcb9-4be6-a9ad-cbf2c637204e",
   "metadata": {},
   "outputs": [],
   "source": [
    "group2_and_group3 = group2.intersection(group3)"
   ]
  },
  {
   "cell_type": "code",
   "execution_count": 434,
   "id": "f0cda91b-06e8-4fc6-9e88-912ec18e22dc",
   "metadata": {},
   "outputs": [],
   "source": [
    "result = group2_and_group3 - group5"
   ]
  },
  {
   "cell_type": "code",
   "execution_count": 435,
   "id": "076d805c-349c-49dd-9593-0bd45de3a060",
   "metadata": {},
   "outputs": [
    {
     "name": "stdout",
     "output_type": "stream",
     "text": [
      "Students in both Group 2 and Group 3, but not in Group 5: {'Peter'}\n"
     ]
    }
   ],
   "source": [
    "print(\"Students in both Group 2 and Group 3, but not in Group 5:\", result)"
   ]
  },
  {
   "cell_type": "markdown",
   "id": "0cf81c82-95f2-4c09-914c-bd5287bb250a",
   "metadata": {},
   "source": [
    "### Q2)"
   ]
  },
  {
   "cell_type": "code",
   "execution_count": 437,
   "id": "e3d87d81-237b-409a-b654-7ad84788cae8",
   "metadata": {},
   "outputs": [],
   "source": [
    "with open('C:\\\\Users\\\\DELL\\\\Desktop\\\\IT22345400\\\\groups\\\\groups\\\\Group1.txt', 'r') as file:\n",
    "    group1 = set(file.read().split(\", \"))"
   ]
  },
  {
   "cell_type": "code",
   "execution_count": 438,
   "id": "bc41f103-70a5-4c96-88fd-3978ed88b6be",
   "metadata": {},
   "outputs": [],
   "source": [
    "with open('C:\\\\Users\\\\DELL\\\\Desktop\\\\IT22345400\\\\groups\\\\groups\\\\Group4.txt', 'r') as file:\n",
    "    group4 = set(file.read().split(\", \"))"
   ]
  },
  {
   "cell_type": "code",
   "execution_count": 439,
   "id": "dd8b7556-5a45-4c57-bf9e-dfff64888b02",
   "metadata": {},
   "outputs": [],
   "source": [
    "with open('C:\\\\Users\\\\DELL\\\\Desktop\\\\IT22345400\\\\groups\\\\groups\\\\Group5.txt', 'r') as file:\n",
    "    group5 = set(file.read().split(\", \"))"
   ]
  },
  {
   "cell_type": "code",
   "execution_count": 440,
   "id": "d37da80e-a9c4-4a3b-9856-0101adb6c2bc",
   "metadata": {},
   "outputs": [],
   "source": [
    "group1_and_group4 = group1.intersection(group4)"
   ]
  },
  {
   "cell_type": "code",
   "execution_count": 441,
   "id": "44b30804-5bc8-4c6b-a86f-d5454df0b0fd",
   "metadata": {},
   "outputs": [
    {
     "name": "stdout",
     "output_type": "stream",
     "text": [
      "Students in both Group 1 and Group 4, but not in Group 5: {'George', 'Ursula', 'Yvonne'}\n"
     ]
    }
   ],
   "source": [
    "result = group1_and_group4 - group5\n",
    "print(\"Students in both Group 1 and Group 4, but not in Group 5:\", result)"
   ]
  },
  {
   "cell_type": "markdown",
   "id": "9150c1d7-3618-4630-87bc-8506e856c8fc",
   "metadata": {},
   "source": [
    "### Q3)"
   ]
  },
  {
   "cell_type": "code",
   "execution_count": 443,
   "id": "2a56567b-74a5-4a81-973c-b455af0ae31d",
   "metadata": {},
   "outputs": [],
   "source": [
    "group2_and_group3 = group2.intersection(group3) - group5"
   ]
  },
  {
   "cell_type": "code",
   "execution_count": 444,
   "id": "c4d3ed5b-53f4-4f8b-a69c-5f7e4bbc083d",
   "metadata": {},
   "outputs": [],
   "source": [
    "group1_and_group4 = group1.intersection(group4) - group5"
   ]
  },
  {
   "cell_type": "code",
   "execution_count": 445,
   "id": "fdef1795-deb6-453c-9420-1e6d086d2b93",
   "metadata": {},
   "outputs": [],
   "source": [
    "groupH = group2_and_group3.union(group1_and_group4)"
   ]
  },
  {
   "cell_type": "code",
   "execution_count": 446,
   "id": "36131926-6654-4e91-b8dd-5cc5a09d086e",
   "metadata": {},
   "outputs": [
    {
     "name": "stdout",
     "output_type": "stream",
     "text": [
      "New Group formed from both tasks: {'George', 'Ursula', 'Yvonne', 'Peter'}\n"
     ]
    }
   ],
   "source": [
    "print(\"New Group formed from both tasks:\", groupH)"
   ]
  },
  {
   "cell_type": "markdown",
   "id": "141afc07-6bad-4d2d-a05e-8f2fa57cb1bc",
   "metadata": {},
   "source": [
    "### Q4)"
   ]
  },
  {
   "cell_type": "code",
   "execution_count": 448,
   "id": "cdfd4e39-723c-4903-a854-08cc557a7781",
   "metadata": {},
   "outputs": [],
   "source": [
    "import os\n",
    "from collections import defaultdict"
   ]
  },
  {
   "cell_type": "code",
   "execution_count": 449,
   "id": "1d367164-3adf-4832-9e6b-ba58145c7d64",
   "metadata": {},
   "outputs": [],
   "source": [
    "# Group H students\n",
    "Group_H = {'Ursula', 'Peter', 'George', 'Yvonne'}"
   ]
  },
  {
   "cell_type": "code",
   "execution_count": 450,
   "id": "0e56e2b3-4966-4973-aa7c-2b64749aa86e",
   "metadata": {},
   "outputs": [],
   "source": [
    "def build_inverted_index(folder_path):\n",
    "    inverted_index = defaultdict(list)\n",
    "\n",
    "    # List of competition files\n",
    "    competition_files = ['Sing.txt', 'Dance.txt', 'Draw.txt', 'Drama.txt']\n",
    "\n",
    "    for filename in competition_files:\n",
    "        # Build the full file path\n",
    "        file_path = os.path.join(folder_path, filename)\n",
    "        \n",
    "        # Extract the competition name from the file name (e.g., 'Sing' from 'Sing.txt')\n",
    "        competition_name = filename.split(\".\")[0]\n",
    "        \n",
    "        with open(file_path, 'r', encoding='utf-8') as file:\n",
    "            content = file.read()\n",
    "            words = content.split()  # Split the file content into words\n",
    "\n",
    "            # For all students mentioned in the competition file, add them to the inverted index\n",
    "            for student in words:\n",
    "                inverted_index[student].append(competition_name)\n",
    "\n",
    "    return dict(inverted_index)"
   ]
  },
  {
   "cell_type": "code",
   "execution_count": 451,
   "id": "19cdec7f-e175-4bb7-b531-0b297aee9e77",
   "metadata": {},
   "outputs": [],
   "source": [
    "# Specify the folder path where the competition files are stored\n",
    "folder_path = 'C:\\\\Users\\\\DELL\\\\Desktop\\\\IT22345400\\\\competitions\\\\competitions'"
   ]
  },
  {
   "cell_type": "code",
   "execution_count": 452,
   "id": "d569e7d6-52e4-4a6c-b87b-09413bb1b0ab",
   "metadata": {},
   "outputs": [
    {
     "name": "stdout",
     "output_type": "stream",
     "text": [
      "{'Our': ['Sing', 'Dance', 'Draw', 'Drama'], 'school': ['Sing', 'Dance', 'Draw', 'Draw', 'Drama'], 'is': ['Sing', 'Dance', 'Draw', 'Drama'], 'excited': ['Sing'], 'to': ['Sing', 'Sing', 'Sing', 'Sing', 'Sing', 'Dance', 'Dance', 'Dance', 'Dance', 'Draw', 'Draw', 'Draw', 'Draw', 'Draw', 'Drama', 'Drama', 'Drama', 'Drama'], 'host': ['Sing', 'Draw'], 'a': ['Sing', 'Sing', 'Sing', 'Sing', 'Dance', 'Dance', 'Dance', 'Dance', 'Draw', 'Draw', 'Draw', 'Drama', 'Drama', 'Drama'], 'captivating': ['Sing', 'Sing', 'Drama'], 'singing': ['Sing', 'Sing'], 'competition,': ['Sing', 'Dance', 'Draw', 'Drama'], 'designed': ['Sing'], 'elevate': ['Sing'], 'the': ['Sing', 'Sing', 'Sing', 'Sing', 'Sing', 'Sing', 'Sing', 'Dance', 'Dance', 'Dance', 'Dance', 'Dance', 'Dance', 'Dance', 'Dance', 'Dance', 'Draw', 'Draw', 'Draw', 'Draw', 'Draw', 'Draw', 'Draw', 'Draw', 'Drama', 'Drama', 'Drama', 'Drama', 'Drama', 'Drama', 'Drama', 'Drama', 'Drama', 'Drama'], \"students'\": ['Sing', 'Dance', 'Drama'], 'vocal': ['Sing'], 'abilities': ['Sing'], 'and': ['Sing', 'Sing', 'Sing', 'Sing', 'Sing', 'Sing', 'Dance', 'Dance', 'Dance', 'Dance', 'Dance', 'Dance', 'Dance', 'Draw', 'Draw', 'Draw', 'Draw', 'Draw', 'Draw', 'Draw', 'Drama', 'Drama', 'Drama', 'Drama', 'Drama', 'Drama'], 'nurture': ['Sing'], 'their': ['Sing', 'Dance', 'Draw', 'Drama'], 'musical': ['Sing', 'Sing', 'Sing'], 'talents.': ['Sing'], 'This': ['Sing', 'Dance', 'Draw', 'Drama'], 'event': ['Sing', 'Dance', 'Draw', 'Drama'], 'offers': ['Sing', 'Draw'], 'stage': ['Sing', 'Drama'], 'for': ['Sing', 'Dance', 'Draw', 'Drama'], 'aspiring': ['Sing'], 'singers': ['Sing'], 'shine,': ['Sing'], 'fostering': ['Sing'], 'confidence': ['Sing'], 'creativity.': ['Sing', 'Dance', 'Draw'], 'With': ['Sing', 'Dance', 'Drama'], 'passionate': ['Sing', 'Dance'], 'participants': ['Sing', 'Dance'], 'diverse': ['Sing', 'Drama', 'Drama'], 'styles,': ['Sing'], 'competition': ['Sing', 'Dance', 'Draw', 'Drama'], 'promises': ['Sing', 'Dance', 'Drama'], 'be': ['Sing', 'Dance', 'Drama'], 'harmonious': ['Sing'], 'celebration': ['Sing', 'Dance'], 'of': ['Sing', 'Dance', 'Draw', 'Draw', 'Draw', 'Draw', 'Drama', 'Drama'], 'talent,': ['Sing', 'Dance', 'Dance', 'Draw', 'Drama'], 'unity,': ['Sing'], 'artistic': ['Sing', 'Dance', 'Dance', 'Draw', 'Draw', 'Draw'], 'growth.': ['Sing'], 'Jane': ['Sing', 'Dance', 'Draw', 'Drama'], 'has': ['Sing', 'Sing', 'Sing', 'Sing', 'Dance', 'Dance', 'Dance', 'Draw', 'Draw', 'Draw', 'Draw', 'Draw', 'Drama', 'Drama', 'Drama', 'Drama', 'Drama'], 'soulful': ['Sing'], 'which': ['Sing', 'Sing', 'Sing', 'Sing', 'Dance', 'Dance', 'Dance', 'Draw', 'Draw', 'Draw', 'Draw', 'Draw', 'Drama', 'Drama', 'Drama', 'Drama', 'Drama'], 'evokes': ['Sing'], 'deep': ['Sing'], 'emotions,': ['Sing'], 'every': ['Sing', 'Sing', 'Drama'], 'listener.': ['Sing'], 'Kane': ['Sing', 'Dance', 'Drama'], 'powerful': ['Sing'], 'vocals': ['Sing'], 'command': ['Sing'], 'attention,': ['Sing'], 'leaving': ['Sing', 'Dance'], 'audience': ['Sing', 'Dance'], 'spellbound.': ['Sing'], 'David': ['Sing', 'Dance', 'Draw', 'Drama'], 'versatile': ['Sing'], 'range': ['Sing'], 'control': ['Sing'], 'enchant,': ['Sing'], 'are': ['Sing'], 'creating': ['Sing', 'Dance', 'Draw'], 'masterpiece.': ['Sing'], 'Peter': ['Sing', 'Draw', 'Drama'], 'unique': ['Sing'], 'style': ['Sing', 'Draw'], 'tone': ['Sing'], 'add': ['Sing'], 'richness': ['Sing'], 'note.': ['Sing'], 'thrilled': ['Dance'], 'organize': ['Dance'], 'vibrant': ['Dance', 'Draw', 'Drama'], 'dancing': ['Dance'], 'aiming': ['Dance'], 'enhance': ['Dance'], 'skills': ['Dance', 'Drama'], 'foster': ['Dance'], 'exciting': ['Dance'], 'provides': ['Dance'], 'platform': ['Dance', 'Drama'], 'young': ['Dance', 'Draw'], 'dancers': ['Dance'], 'showcase': ['Dance', 'Drama'], 'encouraging': ['Dance', 'Drama'], 'self-expression': ['Dance'], 'teamwork.': ['Dance'], 'enthusiastic': ['Dance'], 'performances,': ['Dance'], 'diversity,': ['Dance'], 'excellence.': ['Dance'], 'Sam': ['Dance', 'Draw'], 'captivates': ['Dance'], 'with': ['Dance'], 'his': ['Dance'], 'flawless': ['Dance'], 'rhythmic': ['Dance'], 'dance': ['Dance', 'Dance'], 'moves.': ['Dance'], 'gracefully': ['Dance'], 'glides': ['Dance'], 'across': ['Dance'], 'stage,': ['Dance'], 'her': ['Dance'], 'movements': ['Dance'], 'like': ['Dance'], 'poetry.': ['Dance'], 'energy': ['Dance'], 'passion': ['Dance'], 'electrify': ['Dance'], 'room,': ['Dance'], 'spectators': ['Dance'], 'mesmerized.': ['Dance'], 'technical': ['Dance'], 'precision': ['Dance'], 'artistry': ['Dance', 'Draw'], 'combine,': ['Dance'], 'mesmerizing': ['Dance'], 'performance.': ['Dance'], 'Patrick': ['Dance'], 'innovative': ['Dance', 'Draw'], 'choreography': ['Dance'], 'breathes': ['Dance'], 'new': ['Dance'], 'life': ['Dance', 'Draw', 'Drama'], 'into': ['Dance', 'Drama', 'Drama'], 'world.': ['Dance'], 'proud': ['Draw'], 'an': ['Draw', 'Drama'], 'inspiring': ['Draw'], 'drawing': ['Draw'], 'aimed': ['Draw'], 'at': ['Draw'], 'refining': ['Draw'], 'prowess': ['Draw'], 'our': ['Draw', 'Draw'], 'students.': ['Draw'], 'canvas': ['Draw'], 'artists': ['Draw'], 'unleash': ['Draw'], 'creativity': ['Draw'], 'express': ['Draw'], 'themselves': ['Draw'], 'visually.': ['Draw'], 'Fostering': ['Draw'], 'innovation': ['Draw'], 'attention': ['Draw'], 'detail,': ['Draw'], 'celebrates': ['Draw'], 'imagination,': ['Draw'], 'joy': ['Draw'], 'exploration,': ['Draw'], 'colorful': ['Draw'], 'atmosphere': ['Draw'], 'within': ['Draw'], 'community.': ['Draw'], 'Anne': ['Draw', 'Drama'], 'intricate': ['Draw'], 'brings': ['Draw'], 'delicate': ['Draw'], 'details': ['Draw'], 'on': ['Draw', 'Drama'], 'canvas.': ['Draw'], 'imaginative': ['Draw', 'Drama'], 'creations': ['Draw'], 'blend': ['Draw', 'Draw'], 'colors': ['Draw'], 'in': ['Draw', 'Drama'], 'mesmerizing,': ['Draw'], 'dreamlike': ['Draw'], 'compositions.': ['Draw'], 'sketches': ['Draw'], 'exhibit': ['Draw'], 'remarkable': ['Draw'], 'realism': ['Draw'], 'mastery': ['Draw'], 'shading': ['Draw'], 'light': ['Draw'], 'gives': ['Draw'], 'depth': ['Draw', 'Drama'], 'drawings.': ['Draw'], 'bold': ['Draw'], 'strokes': ['Draw'], 'redefine': ['Draw'], 'conventional': ['Draw'], 'boundaries.': ['Draw'], 'delighted': ['Drama'], 'present': ['Drama'], 'engaging': ['Drama'], 'drama': ['Drama'], 'dedicated': ['Drama'], 'honing': ['Drama'], 'acting': ['Drama', 'Drama'], 'talents': ['Drama'], 'nurturing': ['Drama'], 'theatrical': ['Drama', 'Drama'], 'abilities.': ['Drama'], 'serves': ['Drama'], 'as': ['Drama'], 'creative': ['Drama'], 'budding': ['Drama'], 'actors': ['Drama'], 'explore': ['Drama'], 'roles,': ['Drama', 'Drama'], 'teamwork': ['Drama'], 'self-expression.': ['Drama'], 'spirited': ['Drama'], 'performances': ['Drama', 'Drama'], 'storytelling,': ['Drama'], 'creativity,': ['Drama'], 'dramatic': ['Drama'], 'flair.': ['Drama'], 'emotive': ['Drama'], 'draw': ['Drama'], 'audiences': ['Drama'], 'heart': ['Drama'], 'story.': ['Drama'], 'compelling': ['Drama'], 'presence': ['Drama'], 'leaves': ['Drama'], 'lasting': ['Drama'], 'impact': ['Drama'], 'viewers.': ['Drama'], 'intensity': ['Drama'], 'electrifies,': ['Drama'], 'breathing': ['Drama'], 'character': ['Drama'], 'portrayed.': ['Drama'], 'nuanced': ['Drama'], 'convey': ['Drama'], 'authenticity,': ['Drama'], 'crowd.': ['Drama'], 'natural': ['Drama'], 'charisma': ['Drama'], 'versatility': ['Drama'], 'shine': ['Drama'], 'impressing': ['Drama'], 'all.': ['Drama']}\n"
     ]
    }
   ],
   "source": [
    "# Build the inverted index for all students\n",
    "inverted_index = build_inverted_index(folder_path)\n",
    "\n",
    "# Print the full inverted index (all students and their competitions)\n",
    "print(inverted_index)"
   ]
  },
  {
   "cell_type": "code",
   "execution_count": 453,
   "id": "364dbc66-53ad-4ef1-a4b3-f534a536aba8",
   "metadata": {},
   "outputs": [
    {
     "name": "stdout",
     "output_type": "stream",
     "text": [
      "Competitions for Group H students:\n",
      "George is not participating.\n",
      "Ursula is not participating.\n",
      "Yvonne is not participating.\n",
      "Peter is performing in: Sing, Draw, Drama\n"
     ]
    }
   ],
   "source": [
    "print(\"Competitions for Group H students:\")\n",
    "for student in Group_H:\n",
    "    if student in inverted_index:\n",
    "        competitions = ', '.join(inverted_index[student])\n",
    "        print(f\"{student} is performing in: {competitions}\")\n",
    "    else:\n",
    "        print(f\"{student} is not participating.\")"
   ]
  },
  {
   "cell_type": "markdown",
   "id": "66fe03bd-9a3e-4072-8263-70fe3de38326",
   "metadata": {},
   "source": [
    "### Q5)"
   ]
  },
  {
   "cell_type": "code",
   "execution_count": 455,
   "id": "8a3bb0dd-9797-44ad-8454-69a0e20b324b",
   "metadata": {},
   "outputs": [],
   "source": [
    "import os\n",
    "import nltk\n",
    "from nltk import word_tokenize, pos_tag"
   ]
  },
  {
   "cell_type": "code",
   "execution_count": 456,
   "id": "a86cec90-c13e-45f6-a792-0c56d6a60f79",
   "metadata": {},
   "outputs": [
    {
     "name": "stderr",
     "output_type": "stream",
     "text": [
      "[nltk_data] Downloading package punkt to\n",
      "[nltk_data]     C:\\Users\\DELL\\AppData\\Roaming\\nltk_data...\n",
      "[nltk_data]   Package punkt is already up-to-date!\n",
      "[nltk_data] Downloading package averaged_perceptron_tagger to\n",
      "[nltk_data]     C:\\Users\\DELL\\AppData\\Roaming\\nltk_data...\n",
      "[nltk_data]   Package averaged_perceptron_tagger is already up-to-\n",
      "[nltk_data]       date!\n"
     ]
    },
    {
     "data": {
      "text/plain": [
       "True"
      ]
     },
     "execution_count": 456,
     "metadata": {},
     "output_type": "execute_result"
    }
   ],
   "source": [
    "nltk.download('punkt')\n",
    "nltk.download('averaged_perceptron_tagger')"
   ]
  },
  {
   "cell_type": "code",
   "execution_count": 457,
   "id": "e74659b9-e373-4c42-b705-505a099750b1",
   "metadata": {},
   "outputs": [],
   "source": [
    "# Function to find proper nouns (NNP) using POS tagging from NLTK\n",
    "def find_proper_nouns(text):\n",
    "    words = word_tokenize(text)\n",
    "    tagged_words = pos_tag(words)\n",
    "    proper_nouns = [word for word, pos in tagged_words if pos == 'NNP']\n",
    "    return proper_nouns"
   ]
  },
  {
   "cell_type": "code",
   "execution_count": 458,
   "id": "8b26fda5-5fbb-4a3c-92cd-392800cbc6ab",
   "metadata": {},
   "outputs": [],
   "source": [
    "# Since \"Dance\" is the competition where no Group H students are performing,\n",
    "# Load the \"Dance.txt\" content\n",
    "with open('C:\\\\Users\\\\DELL\\\\Desktop\\\\IT22345400\\\\competitions\\\\competitions\\\\Dance.txt', 'r') as f:\n",
    "    dance_content = f.read()"
   ]
  },
  {
   "cell_type": "code",
   "execution_count": 459,
   "id": "9312fd24-0e63-460b-be64-0a6dabb9d5fd",
   "metadata": {},
   "outputs": [],
   "source": [
    "# Find proper nouns in the Dance competition description\n",
    "proper_nouns_in_dance = find_proper_nouns(dance_content)"
   ]
  },
  {
   "cell_type": "code",
   "execution_count": 460,
   "id": "2f7efd6d-11ca-416d-9f73-dd1190dc6578",
   "metadata": {},
   "outputs": [
    {
     "name": "stdout",
     "output_type": "stream",
     "text": [
      "Competition: Dance\n",
      "Proper nouns: Sam, Jane, Kane, David, Patrick\n"
     ]
    }
   ],
   "source": [
    "print(\"Competition: Dance\")\n",
    "print(f\"Proper nouns: {', '.join(proper_nouns_in_dance)}\")"
   ]
  },
  {
   "cell_type": "code",
   "execution_count": null,
   "id": "93e0cc6f-096a-459a-8e71-5248bda0d31a",
   "metadata": {},
   "outputs": [],
   "source": []
  }
 ],
 "metadata": {
  "kernelspec": {
   "display_name": "Python 3 (ipykernel)",
   "language": "python",
   "name": "python3"
  },
  "language_info": {
   "codemirror_mode": {
    "name": "ipython",
    "version": 3
   },
   "file_extension": ".py",
   "mimetype": "text/x-python",
   "name": "python",
   "nbconvert_exporter": "python",
   "pygments_lexer": "ipython3",
   "version": "3.12.4"
  }
 },
 "nbformat": 4,
 "nbformat_minor": 5
}
