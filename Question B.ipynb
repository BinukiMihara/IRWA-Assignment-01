{
 "cells": [
  {
   "cell_type": "markdown",
   "id": "b314020a-4393-4f45-b19d-40b94d6062c5",
   "metadata": {},
   "source": [
    "### Q1)"
   ]
  },
  {
   "cell_type": "code",
   "execution_count": 137,
   "id": "b2d7e5f0-f06b-48db-b26d-91314eacaa2f",
   "metadata": {},
   "outputs": [],
   "source": [
    "import random\n",
    "from sklearn.feature_extraction.text import TfidfVectorizer\n",
    "from sklearn.metrics.pairwise import cosine_similarity"
   ]
  },
  {
   "cell_type": "code",
   "execution_count": 139,
   "id": "66b735a6-2656-41a5-90fa-a74504f6c3ee",
   "metadata": {},
   "outputs": [],
   "source": [
    "# List of predefined quotes\n",
    "quotes = [\n",
    "    \"Dream big and work hard\",\n",
    "    \"Love deeply and worry less\",\n",
    "    \"Stay positive and stay focused\"\n",
    "]"
   ]
  },
  {
   "cell_type": "code",
   "execution_count": 141,
   "id": "aa9922da-2cd2-4e1f-9a75-045c98f409e5",
   "metadata": {},
   "outputs": [
    {
     "name": "stdout",
     "output_type": "stream",
     "text": [
      "Computer's Quote: Dream big and work hard\n"
     ]
    }
   ],
   "source": [
    "# Randomly select a quote from the list\n",
    "computer_quote = random.choice(quotes)\n",
    "print(f\"Computer's Quote: {computer_quote}\")"
   ]
  },
  {
   "cell_type": "code",
   "execution_count": 143,
   "id": "7d3d95e7-5616-49c3-bfa7-1340bb3cf00a",
   "metadata": {},
   "outputs": [
    {
     "name": "stdin",
     "output_type": "stream",
     "text": [
      "Write a quote similar to the computer's quote:  Set lofty goals and strive diligently.\n"
     ]
    }
   ],
   "source": [
    "# Get user input for a similar quote\n",
    "user_quote = input(\"Write a quote similar to the computer's quote: \")"
   ]
  },
  {
   "cell_type": "code",
   "execution_count": 145,
   "id": "0ebbffa1-4da6-40b4-9047-235f7aecc19a",
   "metadata": {},
   "outputs": [],
   "source": [
    "# Combine the computer's quote and user's quote into a list\n",
    "documents = [computer_quote, user_quote]"
   ]
  },
  {
   "cell_type": "code",
   "execution_count": 147,
   "id": "78a2096d-9101-43e7-a4dc-c48b2c9c83ab",
   "metadata": {},
   "outputs": [],
   "source": [
    "# Calculate TF-IDF for both quotes\n",
    "vectorizer = TfidfVectorizer()\n",
    "tfidf_matrix = vectorizer.fit_transform(documents)"
   ]
  },
  {
   "cell_type": "code",
   "execution_count": 149,
   "id": "c2f9eb91-d0ee-4e7f-a084-c0ee2b1c1caa",
   "metadata": {},
   "outputs": [
    {
     "name": "stdout",
     "output_type": "stream",
     "text": [
      "Cosine Similarity: 0.10163066979112656\n"
     ]
    }
   ],
   "source": [
    "# Calculate Cosine Similarity\n",
    "similarity = cosine_similarity(tfidf_matrix[0:1], tfidf_matrix[1:2])\n",
    "print(f\"Cosine Similarity: {similarity[0][0]}\")"
   ]
  },
  {
   "cell_type": "code",
   "execution_count": 151,
   "id": "3dcc7391-9081-4c54-ae78-f4869b7dd83e",
   "metadata": {},
   "outputs": [
    {
     "name": "stdout",
     "output_type": "stream",
     "text": [
      "Sorry, your quote wasn't similar enough. Try again!\n"
     ]
    }
   ],
   "source": [
    "# Determine if the user wins\n",
    "if similarity[0][0] > 0.5:\n",
    "    print(\"Congratulations! You win!\")\n",
    "else:\n",
    "    print(\"Sorry, your quote wasn't similar enough. Try again!\")"
   ]
  },
  {
   "cell_type": "markdown",
   "id": "2f711944-6623-4cdb-8fe5-de335b1c2f46",
   "metadata": {},
   "source": [
    "### Q2)"
   ]
  },
  {
   "cell_type": "code",
   "execution_count": 154,
   "id": "e38db65a-581c-4264-a9e6-26ec37cf3b7b",
   "metadata": {},
   "outputs": [],
   "source": [
    "import time"
   ]
  },
  {
   "cell_type": "code",
   "execution_count": 156,
   "id": "53bc028c-7250-4047-ae8d-a556eeb3460c",
   "metadata": {},
   "outputs": [],
   "source": [
    "# List of predefined quotes\n",
    "quotes = [\n",
    "    \"Dream big and work hard\",\n",
    "    \"Love deeply and worry less\",\n",
    "    \"Stay positive and stay focused\"\n",
    "]"
   ]
  },
  {
   "cell_type": "code",
   "execution_count": 158,
   "id": "bc55a508-8717-4bd3-ae4e-ba50b577bc52",
   "metadata": {},
   "outputs": [],
   "source": [
    "def play_game(remaining_time):\n",
    "    # Randomly select a quote from the list\n",
    "    computer_quote = random.choice(quotes)\n",
    "    print(f\"\\nComputer's Quote: {computer_quote}\")\n",
    "    \n",
    "    # Record the start time\n",
    "    start_time = time.time()\n",
    "    \n",
    "    # Get user input for a similar quote\n",
    "    user_quote = input(f\"You have {remaining_time:.1f} seconds to write a similar quote: \")\n",
    "\n",
    "    # Check how much time has passed\n",
    "    elapsed_time = time.time() - start_time\n",
    "    \n",
    "    # Check if the user exceeded the time limit\n",
    "    if elapsed_time > remaining_time:\n",
    "        print(\"Sorry, you ran out of time! You lose.\")\n",
    "        return False  # User loses\n",
    "\n",
    "    # Combine the computer's quote and user's quote into a list\n",
    "    documents = [computer_quote, user_quote]\n",
    "\n",
    "    # Calculate TF-IDF for both quotes\n",
    "    vectorizer = TfidfVectorizer()\n",
    "    tfidf_matrix = vectorizer.fit_transform(documents)\n",
    "\n",
    "    # Calculate Cosine Similarity\n",
    "    similarity = cosine_similarity(tfidf_matrix[0:1], tfidf_matrix[1:2])\n",
    "    print(f\"Cosine Similarity: {similarity[0][0]:.2f}\")\n",
    "\n",
    "    # Determine if the user wins\n",
    "    if similarity[0][0] > 0.5:\n",
    "        print(\"Congratulations! You win!\")\n",
    "        return True  # User wins\n",
    "    else:\n",
    "        print(\"Your quote wasn't similar enough. Let's try again!\")\n",
    "        return False  # User does not win\n"
   ]
  },
  {
   "cell_type": "code",
   "execution_count": 160,
   "id": "58cc496a-926a-4f1e-9aa6-0c6792bec3cd",
   "metadata": {},
   "outputs": [
    {
     "name": "stdout",
     "output_type": "stream",
     "text": [
      "\n",
      "Computer's Quote: Love deeply and worry less\n"
     ]
    },
    {
     "name": "stdin",
     "output_type": "stream",
     "text": [
      "You have 15.0 seconds to write a similar quote:  Love deeply and worry less\n"
     ]
    },
    {
     "name": "stdout",
     "output_type": "stream",
     "text": [
      "Cosine Similarity: 1.00\n",
      "Congratulations! You win!\n"
     ]
    }
   ],
   "source": [
    "# Main game loop\n",
    "initial_time = 15\n",
    "remaining_time = initial_time\n",
    "\n",
    "while remaining_time > 0:\n",
    "    if play_game(remaining_time):\n",
    "        break  # Exit the loop if the user wins\n",
    "    # Decrease remaining time\n",
    "    remaining_time -= (time.time() - (initial_time - remaining_time))  # Adjust remaining time\n",
    "    if remaining_time <= 0:\n",
    "        print(\"Sorry, you ran out of time! You lose.\")"
   ]
  },
  {
   "cell_type": "code",
   "execution_count": null,
   "id": "63342ffe-1c9f-4461-9ace-d6b02c8c00a9",
   "metadata": {},
   "outputs": [],
   "source": []
  }
 ],
 "metadata": {
  "kernelspec": {
   "display_name": "Python 3 (ipykernel)",
   "language": "python",
   "name": "python3"
  },
  "language_info": {
   "codemirror_mode": {
    "name": "ipython",
    "version": 3
   },
   "file_extension": ".py",
   "mimetype": "text/x-python",
   "name": "python",
   "nbconvert_exporter": "python",
   "pygments_lexer": "ipython3",
   "version": "3.12.4"
  }
 },
 "nbformat": 4,
 "nbformat_minor": 5
}
